{
 "cells": [
  {
   "cell_type": "code",
   "execution_count": 2,
   "id": "6522dc92",
   "metadata": {},
   "outputs": [],
   "source": [
    "import numpy as np\n",
    "import os\n",
    "import cv2\n",
    "import matplotlib.pyplot as plt\n",
    "import pandas as pd\n",
    "from collections import Counter"
   ]
  },
  {
   "cell_type": "code",
   "execution_count": 5,
   "id": "030c2dad",
   "metadata": {},
   "outputs": [
    {
     "name": "stdout",
     "output_type": "stream",
     "text": [
      "Detected items: \n",
      " person    4\n"
     ]
    }
   ],
   "source": [
    "PROTOTXT = \"weights/MobileNetSSD_deploy.prototxt\"\n",
    "MODEL = \"weights/MobileNetSSD_deploy.caffemodel\"\n",
    "GPU_SUPPORT = 0\n",
    "\n",
    "CLASSES = [\"background\", \"aeroplane\", \"bicycle\", \"bird\", \"boat\", \"bottle\", \"bus\",  \"car\", \"cat\", \"chair\", \"cow\", \n",
    "           \"diningtable\", \"dog\", \"horse\", \"motorbike\", \"person\", \"pottedplant\", \"sheep\", \"sofa\", \"train\", \"tvmonitor\"]\n",
    "COLORS = np.random.uniform(0, 255, size=(len(CLASSES), 3))\n",
    "\n",
    "net = cv2.dnn.readNetFromCaffe(PROTOTXT, MODEL)\n",
    "if GPU_SUPPORT:\n",
    "    net.setPreferableBackend(cv2.dnn.DNN_BACKEND_CUDA)\n",
    "    net.setPreferableTarget(cv2.dnn.DNN_TARGET_CUDA)\n",
    "    \n",
    "image = cv2.imread(\"images_videos/image3.jpg\")\n",
    "(h, w) = image.shape[:2]\n",
    "#blob = cv2.dnn.blobFromImage(image, 0.007843, (300, 300), 127.5)\n",
    "blob = cv2.dnn.blobFromImage(cv2.resize(image, (300, 300)),0.007843, (300,300), 127.5)\n",
    "\n",
    "net.setInput(blob)\n",
    "detections = net.forward()\n",
    "detect_list=list()\n",
    "\n",
    "for i in np.arange(0, detections.shape[2]):\n",
    "    confidence = detections[0, 0, i, 2]\n",
    "    if confidence > 0.6:\n",
    "        idx = int(detections[0, 0, i, 1])\n",
    "        box = detections[0, 0, i, 3:7] * np.array([w, h, w, h])\n",
    "        (startX, startY, endX, endY) = box.astype(\"int\")\n",
    "        label = \"{}: {:.2f}%\".format(CLASSES[idx],confidence*100)\n",
    "        label_2 = \"{}\".format(CLASSES[idx])\n",
    "        detect_list.append(label_2)\n",
    "        cv2.rectangle(image, (startX, startY), (endX, endY),COLORS[idx], 2)\n",
    "        y = startY - 15 if startY - 15 > 15 else startY + 15\n",
    "        cv2.putText(image, label, (startX, y), cv2.FONT_HERSHEY_SIMPLEX, 0.5, COLORS[idx], 2)\n",
    "        #print(label_2)\n",
    "cv2.imshow(\"object detection\", image)\n",
    "cv2.imwrite(\"image_object_detected.jpg\", image)\n",
    "cv2.waitKey(0)\n",
    "cv2.destroyAllWindows()\n",
    "\n",
    "count = Counter(detect_list)\n",
    "my_count = pd.Series(detect_list).value_counts()\n",
    "print(\"Detected items: \\n\",my_count.to_string())"
   ]
  },
  {
   "cell_type": "code",
   "execution_count": null,
   "id": "3de4b2a7",
   "metadata": {},
   "outputs": [],
   "source": []
  }
 ],
 "metadata": {
  "kernelspec": {
   "display_name": "gputest",
   "language": "python",
   "name": "gputest"
  },
  "language_info": {
   "codemirror_mode": {
    "name": "ipython",
    "version": 3
   },
   "file_extension": ".py",
   "mimetype": "text/x-python",
   "name": "python",
   "nbconvert_exporter": "python",
   "pygments_lexer": "ipython3",
   "version": "3.6.13"
  }
 },
 "nbformat": 4,
 "nbformat_minor": 5
}
